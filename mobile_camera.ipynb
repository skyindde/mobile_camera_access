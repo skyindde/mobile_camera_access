{
 "cells": [
  {
   "cell_type": "code",
   "execution_count": 13,
   "id": "1a48da21",
   "metadata": {},
   "outputs": [],
   "source": [
    "import cv2\n",
    "\n",
    "vid = cv2.VideoCapture(\"http://192.168.x.xx.xxxx/video\") # edit the ip address of camera as visisble on mobile screen of camera feed\n",
    "\n",
    "while True:\n",
    "    success, frame = vid.read()\n",
    "    if success:\n",
    "        cv2.imshow('live', frame)\n",
    "    else:\n",
    "        print(\"invalid input\")\n",
    "        break\n",
    "\n",
    "    if cv2.waitKey(1) == ord(\"q\"):\n",
    "        break\n",
    "\n",
    "vid.release()\n",
    "cv2.destroyAllWindows()"
   ]
  }
 ],
 "metadata": {
  "kernelspec": {
   "display_name": "Python 3 (ipykernel)",
   "language": "python",
   "name": "python3"
  },
  "language_info": {
   "codemirror_mode": {
    "name": "ipython",
    "version": 3
   },
   "file_extension": ".py",
   "mimetype": "text/x-python",
   "name": "python",
   "nbconvert_exporter": "python",
   "pygments_lexer": "ipython3",
   "version": "3.10.9"
  }
 },
 "nbformat": 4,
 "nbformat_minor": 5
}
